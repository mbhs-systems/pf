{
 "cells": [
  {
   "cell_type": "code",
   "execution_count": 3,
   "metadata": {},
   "outputs": [],
   "source": [
    "from dedalus import public as de\n",
    "import numpy as np\n",
    "import matplotlib.pyplot as plt\n",
    "de.logging_setup.rootlogger.setLevel('ERROR')\n",
    "%matplotlib inline"
   ]
  },
  {
   "cell_type": "code",
   "execution_count": 40,
   "metadata": {},
   "outputs": [
    {
     "data": {
      "text/plain": [
       "[]"
      ]
     },
     "execution_count": 40,
     "metadata": {},
     "output_type": "execute_result"
    },
    {
     "data": {
      "image/png": "[encoded data removed]",
      "text/plain": [
       "<Figure size 720x72 with 1 Axes>"
      ]
     },
     "metadata": {
      "needs_background": "light"
     },
     "output_type": "display_data"
    }
   ],
   "source": [
    "xbasis = de.Chebyshev('x',1,interval=(-1,1), dealias=1)\n",
    "\n",
    "grid_normal = xbasis.grid(scale=4)\n",
    "plt.figure(figsize=(10,1))\n",
    "plt.plot(grid_normal,np.zeros_like(grid_normal)+1,'o',markersize=5)\n",
    "plt.ylim([-2,2])\n",
    "plt.gca().yaxis.set_ticks([])"
   ]
  }
 ],
 "metadata": {
  "kernelspec": {
   "display_name": "Python 3",
   "language": "python",
   "name": "python3"
  },
  "language_info": {
   "codemirror_mode": {
    "name": "ipython",
    "version": 3
   },
   "file_extension": ".py",
   "mimetype": "text/x-python",
   "name": "python",
   "nbconvert_exporter": "python",
   "pygments_lexer": "ipython3",
   "version": "3.6.8"
  }
 },
 "nbformat": 4,
 "nbformat_minor": 2
}
